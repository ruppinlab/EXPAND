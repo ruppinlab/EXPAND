{
 "cells": [
  {
   "cell_type": "code",
   "execution_count": 1,
   "id": "02e4f55d-65bd-41cf-8de1-d445ba455667",
   "metadata": {},
   "outputs": [
    {
     "name": "stdout",
     "output_type": "stream",
     "text": [
      "Working directory: /data/Lab_ruppin/Ranjan/HnE/\n",
      "Morphology features saved to TCGA_BRCA_FFPE/outputs/HoverNet/TCGA-OL-A66K-01Z-00-DX1_9040_tiles/features/TCGA-OL-A66K-01Z-00-DX1_9040_tiles.csv\n"
     ]
    }
   ],
   "source": [
    "#### ----------------------------------------------------------------\n",
    "#### job submission script\n",
    "#### author: Ranjan Barman, date: June 22, 2025\n",
    "#### Process all POST_NAT_BRCA slides in HoverNet output directory\n",
    "#### ----------------------------------------------------------------\n",
    "\n",
    "import os\n",
    "from datetime import date\n",
    "from argparse import ArgumentParser\n",
    "\n",
    "# Set working directory\n",
    "_wpath_ = \"/data/Lab_ruppin/Ranjan/HnE/\"\n",
    "os.chdir(_wpath_)\n",
    "print(f\"Changed working directory to: {_wpath_}\")\n",
    "\n",
    "parser = ArgumentParser()\n",
    "parser.add_argument(\"-run\", type=str, default=\"n\", help=\"whether to submit jobs for running [y/n]\")\n",
    "args = parser.parse_args()\n",
    "\n",
    "dataset_name = \"POST_NAT_BRCA\"\n",
    "submit_jobs = (args.run.lower() == \"y\")\n",
    "datestamp = date.today().strftime(\"%d%b%Y\")\n",
    "trial = 1\n",
    "\n",
    "code_path = \"/data/Ruppin_AI/BRCA_PIF/Ranjan/Codes/POST_NAT_Codes/\"\n",
    "code_file = \"2_02_03_02_POST_NAT_MorphologyCalculation_All_Slides.py\"\n",
    "\n",
    "job_path = f\"{_wpath_}{dataset_name}/HoverNet/outputs/jobs/{datestamp}_{trial}/\"\n",
    "log_path = f\"{_wpath_}{dataset_name}/HoverNet/outputs/jobs/logs/{datestamp}_{trial}/\"\n",
    "print(f\"Creating job path: {job_path}\")\n",
    "print(f\"Creating log path: {log_path}\")\n",
    "os.makedirs(job_path, exist_ok=True)\n",
    "os.makedirs(log_path, exist_ok=True)\n",
    "\n",
    "hovernet_base_dir = f\"{dataset_name}/HoverNet/outputs/\"\n",
    "slide_folders = sorted([\n",
    "    f for f in os.listdir(hovernet_base_dir)\n",
    "    if os.path.isdir(os.path.join(hovernet_base_dir, f))\n",
    "    and f not in [\"jobs\", \"models\"]\n",
    "])\n",
    "\n",
    "if not slide_folders:\n",
    "    print(\"No slide folders found for processing.\")\n",
    "    exit(1)\n",
    "\n",
    "for slide_folder in slide_folders:\n",
    "    job_file = os.path.join(job_path, f\"run_process_{slide_folder}.sh\")\n",
    "\n",
    "    job_txt = [\n",
    "        \"#!/bin/bash\\n\",\n",
    "        \"#SBATCH --ntasks=1\\n\",\n",
    "        \"#SBATCH --mem=64g\\n\",\n",
    "        \"#SBATCH --time=00:30:00\\n\",\n",
    "        \"#SBATCH --gres=lscratch:20\\n\",\n",
    "        \"#SBATCH --cpus-per-task=4\\n\",\n",
    "        f\"#SBATCH --output={log_path}process_{slide_folder}_%j.out\\n\",\n",
    "        \"\\n\",\n",
    "        f'SCRIPT=\"{code_path + code_file}\"\\n',\n",
    "        f'SLIDE=\"{slide_folder}\"\\n',\n",
    "        \"\\n\",\n",
    "        \"module load python/3.10\\n\",\n",
    "        \"python $SCRIPT -slide $SLIDE\\n\"\n",
    "    ]\n",
    "\n",
    "    try:\n",
    "        with open(job_file, \"w\") as file:\n",
    "            file.writelines(job_txt)\n",
    "        print(f\"Job script written: {job_file}\")\n",
    "    except Exception as e:\n",
    "        print(f\"Error writing job script for {slide_folder}: {e}\")\n",
    "\n",
    "if submit_jobs:\n",
    "    print(f\"Submitting {len(slide_folders)} jobs...\")\n",
    "    for slide_folder in slide_folders:\n",
    "        job_file = os.path.join(job_path, f\"run_process_{slide_folder}.sh\")\n",
    "        os.system(f\"sbatch {job_file}\")\n",
    "\n",
    "print(\"All job scripts created and submitted (if -run y was specified).\")\n"
   ]
  },
  {
   "cell_type": "code",
   "execution_count": null,
   "id": "eeb140e2-58f2-4b5a-81db-7d6441ff2dfa",
   "metadata": {},
   "outputs": [],
   "source": []
  }
 ],
 "metadata": {
  "kernelspec": {
   "display_name": "Python 3 (hovernet)",
   "language": "python",
   "name": "hovernet"
  },
  "language_info": {
   "codemirror_mode": {
    "name": "ipython",
    "version": 3
   },
   "file_extension": ".py",
   "mimetype": "text/x-python",
   "name": "python",
   "nbconvert_exporter": "python",
   "pygments_lexer": "ipython3",
   "version": "3.6.12"
  }
 },
 "nbformat": 4,
 "nbformat_minor": 5
}
