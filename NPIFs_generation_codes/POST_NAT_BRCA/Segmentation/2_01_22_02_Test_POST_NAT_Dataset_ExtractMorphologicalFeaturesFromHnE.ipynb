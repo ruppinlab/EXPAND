{
 "cells": [
  {
   "cell_type": "code",
   "execution_count": 18,
   "id": "02e4f55d-65bd-41cf-8de1-d445ba455667",
   "metadata": {},
   "outputs": [],
   "source": [
    "#### -------------------------------------------------------------------------------------\n",
    "#### author: Ranjan Barman, date: June 18, 2025\n",
    "#### Extract morphological features from H&E slides using HoVer-Net for multiple slides \n",
    "#### --------------------------------------------------------------------------------------\n",
    "\n",
    "import os\n",
    "import bz2\n",
    "import pickle\n",
    "import subprocess\n",
    "from tqdm import tqdm\n",
    "from pathlib import Path\n",
    "from argparse import ArgumentParser\n",
    "\n",
    "# Set working directory and paths\n",
    "_wpath_ = \"/data/Lab_ruppin/Ranjan/HnE/\"\n",
    "os.makedirs(_wpath_, exist_ok=True)\n",
    "os.chdir(_wpath_)\n",
    "\n",
    "# Add HoVer-Net to Python path\n",
    "hovernet_path = \"/data/Ruppin_AI/BRCA_PIF/Ranjan/Codes/hover_net/\"\n",
    "dataset_name = \"POST_NAT_BRCA\"\n",
    "slides_path = \"/data/Ruppin_AI/Datasets/Post_NAT_BRCA/outputs/tiles\"\n",
    "\n",
    "output_base_dir = f\"{dataset_name}/HoverNet/outputs/\"\n",
    "os.makedirs(output_base_dir, exist_ok=True)\n",
    "\n",
    "# Function to read .bz2 file\n",
    "def read_bz2_file(tiles_path, tiles_file):\n",
    "    with bz2.open(os.path.join(tiles_path, tiles_file), \"rb\") as file:\n",
    "        slide_tiles_info, slide_tiles = pickle.load(file)\n",
    "    return slide_tiles_info, slide_tiles\n",
    "\n",
    "# Function to save tiles\n",
    "def save_tiles_to_dir(slide_tiles, tile_path):\n",
    "    os.makedirs(tile_path, exist_ok=True)\n",
    "    for idx, tile in enumerate(slide_tiles):\n",
    "        tile.save(os.path.join(tile_path, f\"tile_{idx + 1}.png\"))\n",
    "\n",
    "# Function to run HoVer-Net inference\n",
    "def run_hovernet_inference(tile_dir, output_dir, gpu_id=\"0,1\", model_mode=\"fast\", batch_size=64):\n",
    "    os.makedirs(output_dir, exist_ok=True)\n",
    "    run_command = [\n",
    "        \"python\",\n",
    "        os.path.join(hovernet_path, \"run_infer.py\"),\n",
    "        f\"--gpu={gpu_id}\",\n",
    "        f\"--nr_types=6\",\n",
    "        f\"--type_info_path={os.path.join(hovernet_path, 'type_info.json')}\",\n",
    "        f\"--batch_size={batch_size}\",\n",
    "        f\"--model_mode={model_mode}\",\n",
    "        f\"--model_path={os.path.join(_wpath_, 'model_hovernet/hovernet_fast_pannuke_type_tf2pytorch.tar')}\",\n",
    "        f\"--nr_inference_workers=4\",\n",
    "        f\"--nr_post_proc_workers=8\",\n",
    "        \"tile\",\n",
    "        f\"--input_dir={tile_dir}\",\n",
    "        f\"--output_dir={output_dir}\",\n",
    "        f\"--mem_usage=0.1\",\n",
    "        \"--draw_dot\",\n",
    "        \"--save_qupath\"\n",
    "    ]\n",
    "    subprocess.run(run_command, check=True)\n",
    "\n",
    "# Command-line arguments\n",
    "parser = ArgumentParser()\n",
    "parser.add_argument(\"-slide\", type=str, required=True, help=\"Slide file name\")\n",
    "parser.add_argument(\"-tile_path\", type=str, required=True, help=\"Path to tiles directory\")\n",
    "parser.add_argument(\"-wd\", type=str, required=True, help=\"Working directory\")\n",
    "args = parser.parse_args()\n",
    "\n",
    "slide_file = args.slide\n",
    "tiles_path = args.tile_path\n",
    "_wpath_ = args.wd\n",
    "\n",
    "# Process the specified slide\n",
    "slide_name = Path(slide_file).stem\n",
    "output_dir = os.path.join(output_base_dir, slide_name)\n",
    "tile_dir = os.path.join(output_dir, \"tiles\")\n",
    "mask_dir = os.path.join(output_dir, \"masks\")\n",
    "\n",
    "# Read and process the slide\n",
    "slide_tiles_info, slide_tiles = read_bz2_file(tiles_path, slide_file)\n",
    "save_tiles_to_dir(slide_tiles, tile_dir)\n",
    "run_hovernet_inference(tile_dir, mask_dir, gpu_id=\"0,1\", batch_size=8)\n"
   ]
  },
  {
   "cell_type": "code",
   "execution_count": 1,
   "id": "f234af46-50fc-4687-a34a-05eacf7612c5",
   "metadata": {},
   "outputs": [
    {
     "name": "stdout",
     "output_type": "stream",
     "text": [
      "Checking CUDA environment...\n",
      "CUDA Toolkit version:\n",
      "NVIDIA-SMI output:\n",
      "Using GPU: Tesla K80\n"
     ]
    }
   ],
   "source": [
    "# import os\n",
    "# import torch\n",
    "\n",
    "# print(\"Checking CUDA environment...\")\n",
    "# print(\"CUDA Toolkit version:\")\n",
    "# os.system(\"nvcc --version\")\n",
    "# print(\"NVIDIA-SMI output:\")\n",
    "# os.system(\"nvidia-smi\")\n",
    "\n",
    "# if not torch.cuda.is_available():\n",
    "#     raise AssertionError(\n",
    "#         \"Torch CUDA not available. Ensure CUDA Toolkit and NVIDIA drivers are correctly installed.\"\n",
    "#     )\n",
    "# else:\n",
    "#     print(f\"Using GPU: {torch.cuda.get_device_name(0)}\")\n"
   ]
  },
  {
   "cell_type": "code",
   "execution_count": 2,
   "id": "06a9015c-e734-4e38-b0e4-d05477558d14",
   "metadata": {},
   "outputs": [
    {
     "name": "stdout",
     "output_type": "stream",
     "text": [
      "Checking GPU and CUDA setup...\n",
      "CUDA version: 10.2\n",
      "PyTorch version: 1.6.0\n",
      "CUDA is available. GPU: Tesla K80\n"
     ]
    }
   ],
   "source": [
    "# def check_gpu_availability():\n",
    "#     import torch\n",
    "#     print(\"Checking GPU and CUDA setup...\")\n",
    "#     print(\"CUDA version:\", torch.version.cuda)\n",
    "#     print(\"PyTorch version:\", torch.__version__)\n",
    "\n",
    "#     # Check if GPU is available\n",
    "#     if not torch.cuda.is_available():\n",
    "#         print(\"NVIDIA-SMI output:\")\n",
    "#         os.system(\"nvidia-smi\")\n",
    "#         raise AssertionError(\n",
    "#             \"No NVIDIA GPU or driver detected. Ensure GPU is installed and CUDA drivers are correctly loaded.\"\n",
    "#         )\n",
    "#     else:\n",
    "#         print(f\"CUDA is available. GPU: {torch.cuda.get_device_name(0)}\")\n",
    "# check_gpu_availability()"
   ]
  },
  {
   "cell_type": "code",
   "execution_count": null,
   "id": "c4d04c03-f1e5-4577-9d73-fa222062efee",
   "metadata": {},
   "outputs": [],
   "source": []
  }
 ],
 "metadata": {
  "kernelspec": {
   "display_name": "Python 3 (hovernet)",
   "language": "python",
   "name": "hovernet"
  },
  "language_info": {
   "codemirror_mode": {
    "name": "ipython",
    "version": 3
   },
   "file_extension": ".py",
   "mimetype": "text/x-python",
   "name": "python",
   "nbconvert_exporter": "python",
   "pygments_lexer": "ipython3",
   "version": "3.6.12"
  }
 },
 "nbformat": 4,
 "nbformat_minor": 5
}
